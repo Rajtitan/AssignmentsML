{
 "cells": [
  {
   "cell_type": "code",
   "execution_count": 10,
   "id": "ee4ce562-722b-4a02-85ce-edefb6e1f8c0",
   "metadata": {},
   "outputs": [],
   "source": [
    "import pickle"
   ]
  },
  {
   "cell_type": "code",
   "execution_count": 11,
   "id": "06538013-8d32-4ed9-a4a1-16b4b141de0a",
   "metadata": {},
   "outputs": [
    {
     "name": "stderr",
     "output_type": "stream",
     "text": [
      "C:\\Users\\Rajesh Rajendran\\anaconda3\\Lib\\site-packages\\sklearn\\base.py:464: UserWarning: X does not have valid feature names, but RandomForestRegressor was fitted with feature names\n",
      "  warnings.warn(\n"
     ]
    }
   ],
   "source": [
    "loaded_model=pickle.load(open(\"finalized_model_Rforest.sav\",'rb'))\n",
    "result=loaded_model.predict([[35,25,4,1,0,1,0]])"
   ]
  },
  {
   "cell_type": "code",
   "execution_count": 12,
   "id": "7b755ec2-a3ae-4111-bcc8-5ba68d371bbc",
   "metadata": {},
   "outputs": [
    {
     "data": {
      "text/plain": [
       "array([6817.841415])"
      ]
     },
     "execution_count": 12,
     "metadata": {},
     "output_type": "execute_result"
    }
   ],
   "source": [
    "result"
   ]
  },
  {
   "cell_type": "code",
   "execution_count": null,
   "id": "b733d46a-146f-4205-a442-fb9c66817e81",
   "metadata": {},
   "outputs": [],
   "source": []
  }
 ],
 "metadata": {
  "kernelspec": {
   "display_name": "Python 3",
   "language": "python",
   "name": "python3"
  },
  "language_info": {
   "codemirror_mode": {
    "name": "ipython",
    "version": 3
   },
   "file_extension": ".py",
   "mimetype": "text/x-python",
   "name": "python",
   "nbconvert_exporter": "python",
   "pygments_lexer": "ipython3",
   "version": "3.11.5"
  }
 },
 "nbformat": 4,
 "nbformat_minor": 5
}
